{
  "nbformat": 4,
  "nbformat_minor": 0,
  "metadata": {
    "colab": {
      "provenance": [],
      "authorship_tag": "ABX9TyPUmFhPUhdgpzL4vE2CcHdo",
      "include_colab_link": true
    },
    "kernelspec": {
      "name": "python3",
      "display_name": "Python 3"
    },
    "language_info": {
      "name": "python"
    }
  },
  "cells": [
    {
      "cell_type": "markdown",
      "metadata": {
        "id": "view-in-github",
        "colab_type": "text"
      },
      "source": [
        "<a href=\"https://colab.research.google.com/github/Maykonellyas/Aulas-Programa-o-Python/blob/main/Aula_001_Introdu%C3%A7%C3%A3o_aos_algoritimos.ipynb\" target=\"_parent\"><img src=\"https://colab.research.google.com/assets/colab-badge.svg\" alt=\"Open In Colab\"/></a>"
      ]
    },
    {
      "cell_type": "code",
      "execution_count": null,
      "metadata": {
        "colab": {
          "base_uri": "https://localhost:8080/"
        },
        "id": "P6uKuIhC9zJc",
        "outputId": "9b940e2f-1887-4ea5-d9a8-823e3b894b2d"
      },
      "outputs": [
        {
          "output_type": "stream",
          "name": "stdout",
          "text": [
            "ola Maykon\n"
          ]
        }
      ],
      "source": [
        "nome = 'Maykon'\n",
        "print('ola '+nome)\n",
        "\n",
        "\n"
      ]
    },
    {
      "cell_type": "code",
      "source": [
        "A = 42\n",
        "b = 10\n",
        "print (a-b)"
      ],
      "metadata": {
        "colab": {
          "base_uri": "https://localhost:8080/",
          "height": 176
        },
        "id": "eHtuiDQtCk7S",
        "outputId": "4cf5ac51-75f3-4625-81a6-5b160844556b"
      },
      "execution_count": 3,
      "outputs": [
        {
          "output_type": "error",
          "ename": "NameError",
          "evalue": "name 'a' is not defined",
          "traceback": [
            "\u001b[0;31m---------------------------------------------------------------------------\u001b[0m",
            "\u001b[0;31mNameError\u001b[0m                                 Traceback (most recent call last)",
            "\u001b[0;32m<ipython-input-3-7b24b735e92d>\u001b[0m in \u001b[0;36m<cell line: 3>\u001b[0;34m()\u001b[0m\n\u001b[1;32m      1\u001b[0m \u001b[0mA\u001b[0m \u001b[0;34m=\u001b[0m \u001b[0;36m42\u001b[0m\u001b[0;34m\u001b[0m\u001b[0;34m\u001b[0m\u001b[0m\n\u001b[1;32m      2\u001b[0m \u001b[0mb\u001b[0m \u001b[0;34m=\u001b[0m \u001b[0;36m10\u001b[0m\u001b[0;34m\u001b[0m\u001b[0;34m\u001b[0m\u001b[0m\n\u001b[0;32m----> 3\u001b[0;31m \u001b[0mprint\u001b[0m \u001b[0;34m(\u001b[0m\u001b[0ma\u001b[0m\u001b[0;34m-\u001b[0m\u001b[0mb\u001b[0m\u001b[0;34m)\u001b[0m\u001b[0;34m\u001b[0m\u001b[0;34m\u001b[0m\u001b[0m\n\u001b[0m",
            "\u001b[0;31mNameError\u001b[0m: name 'a' is not defined"
          ]
        }
      ]
    },
    {
      "cell_type": "code",
      "source": [
        "type()"
      ],
      "metadata": {
        "colab": {
          "base_uri": "https://localhost:8080/"
        },
        "id": "7jOpp58lzuKW",
        "outputId": "83fcbd66-5e43-434c-f090-a30db8adb7c3"
      },
      "execution_count": 16,
      "outputs": [
        {
          "output_type": "execute_result",
          "data": {
            "text/plain": [
              "str"
            ]
          },
          "metadata": {},
          "execution_count": 16
        }
      ]
    },
    {
      "cell_type": "code",
      "source": [
        "nome = 'josé'  #str\n",
        "preço = 12.5   #float, ou\n",
        "idade = 38     #int prtence aos inteiros\n",
        "ehMaior = idade > 18   #bool  logica ou booleanas"
      ],
      "metadata": {
        "id": "cbjccP_ByGyp"
      },
      "execution_count": 17,
      "outputs": []
    },
    {
      "cell_type": "code",
      "source": [
        "time = input('Insira o nome do time:')\n",
        "print(time)"
      ],
      "metadata": {
        "colab": {
          "base_uri": "https://localhost:8080/"
        },
        "id": "Zpy7ht6R1tUG",
        "outputId": "1d1c1779-3612-4597-bc8e-ecbde2d05875"
      },
      "execution_count": 21,
      "outputs": [
        {
          "output_type": "stream",
          "name": "stdout",
          "text": [
            "Insira o nome do time:Barcelona\n",
            "Barcelona\n"
          ]
        }
      ]
    },
    {
      "cell_type": "markdown",
      "source": [],
      "metadata": {
        "id": "WmomQW3F3sKr"
      }
    },
    {
      "cell_type": "code",
      "source": [
        "Usuario = input('Insira o nome do Usuario:')\n",
        "print(Usuario)"
      ],
      "metadata": {
        "colab": {
          "base_uri": "https://localhost:8080/"
        },
        "id": "iOGo-ROM2dPF",
        "outputId": "e555b492-a577-40e6-9493-9c06c61003d2"
      },
      "execution_count": 23,
      "outputs": [
        {
          "output_type": "stream",
          "name": "stdout",
          "text": [
            "Insira o nome do Usuario Maykon\n",
            " Maykon\n"
          ]
        }
      ]
    },
    {
      "cell_type": "code",
      "source": [
        "nome = input('insira o nome do usuario :')\n",
        "print('Seja bem-vindo :', nome)"
      ],
      "metadata": {
        "id": "eHeD-4Rl3S7l"
      },
      "execution_count": null,
      "outputs": []
    },
    {
      "cell_type": "code",
      "source": [
        "numero = int(input('Isira um número :'))\n",
        "print (numero * 2)\n"
      ],
      "metadata": {
        "colab": {
          "base_uri": "https://localhost:8080/"
        },
        "id": "NCfNrD_i4llc",
        "outputId": "70407585-d029-490e-fba2-50598069e30b"
      },
      "execution_count": 57,
      "outputs": [
        {
          "output_type": "stream",
          "name": "stdout",
          "text": [
            "Isira um número :4\n",
            "8\n"
          ]
        }
      ]
    },
    {
      "cell_type": "code",
      "source": [
        "#a circuferencia do circulo é medida pela formula\n",
        "#2 * pi * raio\n",
        "#faça um algoritmo que pede o raio e retorna a circuferencia\n",
        "#use pi = 3.14\n",
        "raio = float(input('Insira o raio'))\n",
        "circuferencia = 2 * 3.14 * raio\n",
        "print(circuferencia)"
      ],
      "metadata": {
        "colab": {
          "base_uri": "https://localhost:8080/"
        },
        "id": "vBJh2Jqb7HUY",
        "outputId": "35d713c9-0555-4877-b1d9-fce5becfabff"
      },
      "execution_count": 34,
      "outputs": [
        {
          "output_type": "stream",
          "name": "stdout",
          "text": [
            "Insira o raio5\n",
            "31.400000000000002\n"
          ]
        }
      ]
    },
    {
      "cell_type": "code",
      "source": [
        "# Solicita ao usuario a  altura e o peso\n",
        "# Retorna o cálculo do IMC\n",
        "# peso / altura ao quadrado\n",
        "peso = float(input('peso:   '))\n",
        "altura = float(input('altura:  '))\n",
        "imc = peso / altura **2\n",
        "print (\"O IMC é\", imc)\n"
      ],
      "metadata": {
        "colab": {
          "base_uri": "https://localhost:8080/"
        },
        "id": "qnpbypc-877C",
        "outputId": "0dd197f4-dc0a-4503-dea8-04c0da215447"
      },
      "execution_count": 37,
      "outputs": [
        {
          "output_type": "stream",
          "name": "stdout",
          "text": [
            "peso:   60\n",
            "altura:  1.82\n",
            "O IMC é 18.11375437749064\n"
          ]
        }
      ]
    },
    {
      "cell_type": "code",
      "source": [
        "# converte uma temperatura em graus celsius para kelvin\n",
        "# temperatura em celsius e soma 274\n",
        "temp = float(input('Forneça a temperatura '))\n",
        "print(temp + 274)"
      ],
      "metadata": {
        "colab": {
          "base_uri": "https://localhost:8080/"
        },
        "id": "gKZzahTU_w_S",
        "outputId": "f4d81550-f327-4611-d250-32ed5bb4dc09"
      },
      "execution_count": 38,
      "outputs": [
        {
          "output_type": "stream",
          "name": "stdout",
          "text": [
            "Forneça a temperatura 23\n",
            "297.0\n"
          ]
        }
      ]
    },
    {
      "cell_type": "code",
      "source": [
        "# Estrutura de contrel if e Else\n",
        "# se for maior de 18 anos\n",
        "# esta apto ao concurso publico\n",
        "idade = int(input('Digite a Idade:'))\n",
        "if(idade >= 18):\n",
        "  print('Apto ao concurso')\n",
        "else:\n",
        "  print('Não apto')\n"
      ],
      "metadata": {
        "id": "0hUzNBDOBCzC"
      },
      "execution_count": null,
      "outputs": []
    },
    {
      "cell_type": "code",
      "source": [
        "#classificador de números.\n",
        "#receber um número e diz se ele é positivo ou zero\n",
        "num = int(input(' Digite o número'))\n",
        "if (num > 0):\n",
        "  print('positivo')\n",
        "elif(num < 0):\n",
        "  print('negativo')\n",
        "else:\n",
        "  print('zero')"
      ],
      "metadata": {
        "id": "9CkgxuPMDu6s"
      },
      "execution_count": null,
      "outputs": []
    },
    {
      "cell_type": "code",
      "source": [
        "#receber dois números\n",
        "#diz qual é o maior\n",
        "#informa se eles forem iguais\n",
        "num1 = int(input(' Digite o primeiro núnero 1 :'))\n",
        "num2 = int(input(' Digite o segundo númro 2 :'))\n",
        "if (num1 > num2):\n",
        "    print(' O primeiro número é maior')\n",
        "elif (num2 > num1):\n",
        "  print('O segundo número é maior')\n",
        "else:\n",
        "  print('São Iguais')"
      ],
      "metadata": {
        "id": "q1Thc64TFhMb"
      },
      "execution_count": null,
      "outputs": []
    }
  ]
}